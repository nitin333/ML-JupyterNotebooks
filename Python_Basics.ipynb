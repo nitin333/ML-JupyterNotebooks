{
 "cells": [
  {
   "cell_type": "markdown",
   "id": "696be005",
   "metadata": {},
   "source": [
    "### Data Types"
   ]
  },
  {
   "cell_type": "code",
   "execution_count": null,
   "id": "9acd0829",
   "metadata": {},
   "outputs": [],
   "source": [
    "# Strings "
   ]
  },
  {
   "cell_type": "code",
   "execution_count": 8,
   "id": "ac157551",
   "metadata": {},
   "outputs": [],
   "source": [
    "x = 'physics'"
   ]
  },
  {
   "cell_type": "code",
   "execution_count": 13,
   "id": "22b33a68",
   "metadata": {},
   "outputs": [],
   "source": [
    "x1 = x[::-1]"
   ]
  },
  {
   "cell_type": "code",
   "execution_count": 16,
   "id": "ca897026",
   "metadata": {},
   "outputs": [
    {
     "data": {
      "text/plain": [
       "'physics'"
      ]
     },
     "execution_count": 16,
     "metadata": {},
     "output_type": "execute_result"
    }
   ],
   "source": [
    "x1"
   ]
  },
  {
   "cell_type": "code",
   "execution_count": null,
   "id": "2cf99cc9",
   "metadata": {},
   "outputs": [],
   "source": [
    "# Numbers"
   ]
  },
  {
   "cell_type": "code",
   "execution_count": 17,
   "id": "4b611038",
   "metadata": {},
   "outputs": [],
   "source": [
    "x1 = 2.2\n",
    "x2 = 3.0"
   ]
  },
  {
   "cell_type": "code",
   "execution_count": 22,
   "id": "0a574906",
   "metadata": {},
   "outputs": [],
   "source": [
    "x3 = x1-x2"
   ]
  },
  {
   "cell_type": "code",
   "execution_count": 24,
   "id": "0f635811",
   "metadata": {},
   "outputs": [
    {
     "data": {
      "text/plain": [
       "-0.8"
      ]
     },
     "execution_count": 24,
     "metadata": {},
     "output_type": "execute_result"
    }
   ],
   "source": [
    "round(x3,2)"
   ]
  },
  {
   "cell_type": "code",
   "execution_count": 25,
   "id": "dbcd940f",
   "metadata": {},
   "outputs": [],
   "source": [
    "import pandas as pd"
   ]
  },
  {
   "cell_type": "code",
   "execution_count": 32,
   "id": "15e9b072",
   "metadata": {},
   "outputs": [],
   "source": [
    "df1 = pd.DataFrame(['5.5','2.2','3.3'],columns = ['col'])"
   ]
  },
  {
   "cell_type": "code",
   "execution_count": 35,
   "id": "5ce75437",
   "metadata": {},
   "outputs": [
    {
     "name": "stdout",
     "output_type": "stream",
     "text": [
      "<class 'pandas.core.frame.DataFrame'>\n",
      "RangeIndex: 3 entries, 0 to 2\n",
      "Data columns (total 1 columns):\n",
      " #   Column  Non-Null Count  Dtype  \n",
      "---  ------  --------------  -----  \n",
      " 0   col     3 non-null      float64\n",
      "dtypes: float64(1)\n",
      "memory usage: 152.0 bytes\n"
     ]
    }
   ],
   "source": [
    "df1.info()"
   ]
  },
  {
   "cell_type": "code",
   "execution_count": 30,
   "id": "00ebe763",
   "metadata": {},
   "outputs": [],
   "source": [
    "df1['col'] = df1['col'].astype(float)"
   ]
  },
  {
   "cell_type": "code",
   "execution_count": 34,
   "id": "b302bf76",
   "metadata": {},
   "outputs": [],
   "source": [
    "df1['col'] = pd.to_numeric(df1['col'])"
   ]
  },
  {
   "cell_type": "code",
   "execution_count": 107,
   "id": "3b24bbf5",
   "metadata": {},
   "outputs": [],
   "source": [
    "a = [['a', '1.2', '4.2'], ['b', '70', '0.03'], ['x', '5', '0']]\n",
    "df2 = pd.DataFrame(a, columns=['one', 'two', 'three'])"
   ]
  },
  {
   "cell_type": "code",
   "execution_count": 108,
   "id": "0b9416c1",
   "metadata": {},
   "outputs": [],
   "source": [
    "df2[['two', 'three']] = df2[['two', 'three']].astype(float)"
   ]
  },
  {
   "cell_type": "code",
   "execution_count": null,
   "id": "04f8bcfc",
   "metadata": {},
   "outputs": [],
   "source": [
    "# Dates"
   ]
  },
  {
   "cell_type": "code",
   "execution_count": 36,
   "id": "8a12ce5c",
   "metadata": {},
   "outputs": [],
   "source": [
    "import datetime"
   ]
  },
  {
   "cell_type": "code",
   "execution_count": 37,
   "id": "53609ec9",
   "metadata": {},
   "outputs": [
    {
     "name": "stdout",
     "output_type": "stream",
     "text": [
      "2023-03-22 13:48:43.657931\n"
     ]
    }
   ],
   "source": [
    "now = datetime.datetime.now()\n",
    "print(now)"
   ]
  },
  {
   "cell_type": "code",
   "execution_count": 38,
   "id": "6c88cbc0",
   "metadata": {},
   "outputs": [
    {
     "name": "stdout",
     "output_type": "stream",
     "text": [
      "2023-03-22\n"
     ]
    }
   ],
   "source": [
    "current_date = datetime.date.today()\n",
    "print(current_date)"
   ]
  },
  {
   "cell_type": "code",
   "execution_count": 39,
   "id": "dd41a0e5",
   "metadata": {},
   "outputs": [
    {
     "name": "stdout",
     "output_type": "stream",
     "text": [
      "2022-12-25\n"
     ]
    }
   ],
   "source": [
    "### datetime.date\n",
    "d = datetime.date(2022, 12, 25)\n",
    "print(d)"
   ]
  },
  {
   "cell_type": "code",
   "execution_count": 41,
   "id": "1dbc80aa",
   "metadata": {},
   "outputs": [
    {
     "name": "stdout",
     "output_type": "stream",
     "text": [
      "2022-12-25\n"
     ]
    }
   ],
   "source": [
    "from datetime import date\n",
    "d1 = date(2022, 12, 25)\n",
    "print(d1)"
   ]
  },
  {
   "cell_type": "code",
   "execution_count": 54,
   "id": "82a4ddc4",
   "metadata": {},
   "outputs": [
    {
     "name": "stdout",
     "output_type": "stream",
     "text": [
      "Today's date = 2023-03-21\n"
     ]
    }
   ],
   "source": [
    "todays_date = date.today()\n",
    "print(\"Today's date =\", todays_date)"
   ]
  },
  {
   "cell_type": "code",
   "execution_count": 42,
   "id": "ed394bff",
   "metadata": {},
   "outputs": [
    {
     "name": "stdout",
     "output_type": "stream",
     "text": [
      "Date = 2012-01-11\n"
     ]
    }
   ],
   "source": [
    "### Date from timestamp\n",
    "timestamp = date.fromtimestamp(1326244364)\n",
    "print(\"Date =\", timestamp)"
   ]
  },
  {
   "cell_type": "code",
   "execution_count": 43,
   "id": "2cc8045b",
   "metadata": {},
   "outputs": [
    {
     "name": "stdout",
     "output_type": "stream",
     "text": [
      "Current year: 2023\n",
      "Current month: 3\n",
      "Current day: 22\n"
     ]
    }
   ],
   "source": [
    "today = date.today() \n",
    "\n",
    "print(\"Current year:\", today.year)\n",
    "print(\"Current month:\", today.month)\n",
    "print(\"Current day:\", today.day)"
   ]
  },
  {
   "cell_type": "code",
   "execution_count": 45,
   "id": "81484c43",
   "metadata": {},
   "outputs": [
    {
     "name": "stdout",
     "output_type": "stream",
     "text": [
      "11:34:56\n"
     ]
    }
   ],
   "source": [
    "from datetime import time\n",
    "\n",
    "# time(hour, minute, second ,microsecond)\n",
    "b = time(11, 34, 56)\n",
    "print(b)"
   ]
  },
  {
   "cell_type": "code",
   "execution_count": 46,
   "id": "a65517be",
   "metadata": {},
   "outputs": [
    {
     "name": "stdout",
     "output_type": "stream",
     "text": [
      "Hour = 11\n",
      "Minute = 34\n",
      "Second = 56\n",
      "Microsecond = 0\n"
     ]
    }
   ],
   "source": [
    "a = time(11, 34, 56)\n",
    "\n",
    "print(\"Hour =\", a.hour)\n",
    "print(\"Minute =\", a.minute)\n",
    "print(\"Second =\", a.second)\n",
    "print(\"Microsecond =\", a.microsecond)"
   ]
  },
  {
   "cell_type": "code",
   "execution_count": 60,
   "id": "250c1532",
   "metadata": {},
   "outputs": [],
   "source": [
    "from datetime import datetime"
   ]
  },
  {
   "cell_type": "code",
   "execution_count": 61,
   "id": "d4d592d5",
   "metadata": {},
   "outputs": [
    {
     "name": "stdout",
     "output_type": "stream",
     "text": [
      "2022-12-28 23:55:59.342380\n"
     ]
    }
   ],
   "source": [
    "# datetime(year, month, day, hour, minute, second, microsecond)\n",
    "b1 = datetime(2022, 12, 28, 23, 55, 59, 342380)\n",
    "print(b1)"
   ]
  },
  {
   "cell_type": "code",
   "execution_count": 62,
   "id": "1148745a",
   "metadata": {},
   "outputs": [
    {
     "name": "stdout",
     "output_type": "stream",
     "text": [
      "t3 = 201 days, 0:00:00\n"
     ]
    }
   ],
   "source": [
    "from datetime import datetime, date\n",
    "\n",
    "# using date()\n",
    "t1 = date(year = 2018, month = 7, day = 12)\n",
    "t2 = date(year = 2017, month = 12, day = 23)\n",
    "\n",
    "t3 = t1 - t2\n",
    "\n",
    "print(\"t3 =\", t3)"
   ]
  },
  {
   "cell_type": "code",
   "execution_count": 63,
   "id": "681d92ef",
   "metadata": {},
   "outputs": [
    {
     "name": "stdout",
     "output_type": "stream",
     "text": [
      "t3 = 14 days, 13:55:39\n"
     ]
    }
   ],
   "source": [
    "from datetime import timedelta\n",
    "\n",
    "t1 = timedelta(weeks = 2, days = 5, hours = 1, seconds = 33)\n",
    "t2 = timedelta(days = 4, hours = 11, minutes = 4, seconds = 54)\n",
    "\n",
    "t3 = t1 - t2\n",
    "\n",
    "print(\"t3 =\", t3)"
   ]
  },
  {
   "cell_type": "code",
   "execution_count": 64,
   "id": "a9dd6ef3",
   "metadata": {},
   "outputs": [
    {
     "name": "stdout",
     "output_type": "stream",
     "text": [
      "Time: 14:25:05\n",
      "s1: 03/21/2023, 14:25:05\n",
      "s2: 21/03/2023, 14:25:05\n"
     ]
    }
   ],
   "source": [
    "### Datetime format\n",
    "\n",
    "from datetime import datetime\n",
    "\n",
    "# current date and time\n",
    "now = datetime.now()\n",
    "\n",
    "t = now.strftime(\"%H:%M:%S\")\n",
    "print(\"Time:\", t)\n",
    "\n",
    "s1 = now.strftime(\"%m/%d/%Y, %H:%M:%S\")\n",
    "# mm/dd/YY H:M:S format\n",
    "print(\"s1:\", s1)\n",
    "\n",
    "s2 = now.strftime(\"%d/%m/%Y, %H:%M:%S\")\n",
    "# dd/mm/YY H:M:S format\n",
    "print(\"s2:\", s2)"
   ]
  },
  {
   "cell_type": "code",
   "execution_count": 65,
   "id": "ce6b4798",
   "metadata": {},
   "outputs": [
    {
     "name": "stdout",
     "output_type": "stream",
     "text": [
      "year: 2023\n",
      "month: 03\n",
      "day: 21\n",
      "time: 14:25:05\n",
      "date and time: 03/21/2023, 14:25:05\n"
     ]
    }
   ],
   "source": [
    "year = now.strftime(\"%Y\")\n",
    "print(\"year:\", year)\n",
    "\n",
    "month = now.strftime(\"%m\")\n",
    "print(\"month:\", month)\n",
    "\n",
    "day = now.strftime(\"%d\")\n",
    "print(\"day:\", day)\n",
    "\n",
    "time = now.strftime(\"%H:%M:%S\")\n",
    "print(\"time:\", time)\n",
    "\n",
    "date_time = now.strftime(\"%m/%d/%Y, %H:%M:%S\")\n",
    "print(\"date and time:\",date_time)"
   ]
  },
  {
   "cell_type": "code",
   "execution_count": 52,
   "id": "432624cc",
   "metadata": {},
   "outputs": [],
   "source": [
    "import pandas as pd\n",
    "import datetime as dt"
   ]
  },
  {
   "cell_type": "code",
   "execution_count": 54,
   "id": "2576be30",
   "metadata": {},
   "outputs": [],
   "source": [
    "### Object to date in python\n",
    "\n",
    "df = pd.DataFrame(['05MAR2023:00:00:00.000'],columns=['Mycol'])"
   ]
  },
  {
   "cell_type": "code",
   "execution_count": 57,
   "id": "ce9b932f",
   "metadata": {},
   "outputs": [
    {
     "name": "stdout",
     "output_type": "stream",
     "text": [
      "<class 'pandas.core.frame.DataFrame'>\n",
      "RangeIndex: 1 entries, 0 to 0\n",
      "Data columns (total 2 columns):\n",
      " #   Column  Non-Null Count  Dtype         \n",
      "---  ------  --------------  -----         \n",
      " 0   Mycol   1 non-null      object        \n",
      " 1   Mycol1  1 non-null      datetime64[ns]\n",
      "dtypes: datetime64[ns](1), object(1)\n",
      "memory usage: 144.0+ bytes\n"
     ]
    }
   ],
   "source": [
    "df.info()"
   ]
  },
  {
   "cell_type": "code",
   "execution_count": 56,
   "id": "c81da757",
   "metadata": {},
   "outputs": [],
   "source": [
    "df['Mycol1'] =  pd.to_datetime(df['Mycol'], format='%d%b%Y:%H:%M:%S.%f')"
   ]
  },
  {
   "cell_type": "code",
   "execution_count": 50,
   "id": "20fea477",
   "metadata": {},
   "outputs": [
    {
     "data": {
      "text/html": [
       "<div>\n",
       "<style scoped>\n",
       "    .dataframe tbody tr th:only-of-type {\n",
       "        vertical-align: middle;\n",
       "    }\n",
       "\n",
       "    .dataframe tbody tr th {\n",
       "        vertical-align: top;\n",
       "    }\n",
       "\n",
       "    .dataframe thead th {\n",
       "        text-align: right;\n",
       "    }\n",
       "</style>\n",
       "<table border=\"1\" class=\"dataframe\">\n",
       "  <thead>\n",
       "    <tr style=\"text-align: right;\">\n",
       "      <th></th>\n",
       "      <th>Mycol</th>\n",
       "      <th>Mycol1</th>\n",
       "    </tr>\n",
       "  </thead>\n",
       "  <tbody>\n",
       "    <tr>\n",
       "      <th>0</th>\n",
       "      <td>05MAR2023:00:00:00.000</td>\n",
       "      <td>2023-03-05</td>\n",
       "    </tr>\n",
       "  </tbody>\n",
       "</table>\n",
       "</div>"
      ],
      "text/plain": [
       "                    Mycol     Mycol1\n",
       "0  05MAR2023:00:00:00.000 2023-03-05"
      ]
     },
     "execution_count": 50,
     "metadata": {},
     "output_type": "execute_result"
    }
   ],
   "source": [
    "df"
   ]
  },
  {
   "cell_type": "code",
   "execution_count": 53,
   "id": "2362bd09",
   "metadata": {},
   "outputs": [],
   "source": [
    "df['Mycol1'] = df['Mycol'].apply(lambda x: dt.datetime.strptime(x,'%d%b%Y:%H:%M:%S.%f'))"
   ]
  },
  {
   "cell_type": "code",
   "execution_count": 90,
   "id": "0e1f742a",
   "metadata": {},
   "outputs": [],
   "source": [
    "# List \n",
    "\n",
    "l1 = ['Physics','Chemistry','Mathematics','Biology',5,5,'Physics']"
   ]
  },
  {
   "cell_type": "code",
   "execution_count": 84,
   "id": "d5a8b53b",
   "metadata": {},
   "outputs": [],
   "source": [
    "l1.remove('Physics')"
   ]
  },
  {
   "cell_type": "code",
   "execution_count": 87,
   "id": "6f8825f3",
   "metadata": {},
   "outputs": [
    {
     "data": {
      "text/plain": [
       "'Physics'"
      ]
     },
     "execution_count": 87,
     "metadata": {},
     "output_type": "execute_result"
    }
   ],
   "source": [
    "l1.pop(0)"
   ]
  },
  {
   "cell_type": "code",
   "execution_count": 88,
   "id": "d34fee86",
   "metadata": {},
   "outputs": [
    {
     "data": {
      "text/plain": [
       "['Chemistry', 'Mathematics', 'Biology', 5, 5, 'Physics']"
      ]
     },
     "execution_count": 88,
     "metadata": {},
     "output_type": "execute_result"
    }
   ],
   "source": [
    "l1"
   ]
  },
  {
   "cell_type": "code",
   "execution_count": 62,
   "id": "543fbb92",
   "metadata": {},
   "outputs": [
    {
     "data": {
      "text/plain": [
       "5"
      ]
     },
     "execution_count": 62,
     "metadata": {},
     "output_type": "execute_result"
    }
   ],
   "source": [
    "len(l1)"
   ]
  },
  {
   "cell_type": "code",
   "execution_count": 60,
   "id": "2b430e43",
   "metadata": {},
   "outputs": [
    {
     "data": {
      "text/plain": [
       "['Physics', 'Chemistry', 'Mathematics']"
      ]
     },
     "execution_count": 60,
     "metadata": {},
     "output_type": "execute_result"
    }
   ],
   "source": [
    "l1[0:3]"
   ]
  },
  {
   "cell_type": "code",
   "execution_count": 64,
   "id": "859dc51a",
   "metadata": {},
   "outputs": [],
   "source": [
    "l1.insert(0,'Advance Physics')"
   ]
  },
  {
   "cell_type": "code",
   "execution_count": 65,
   "id": "2d0e95af",
   "metadata": {},
   "outputs": [
    {
     "data": {
      "text/plain": [
       "['Advance Physics', 'Physics', 'Chemistry', 'Mathematics', 'Biology', 5]"
      ]
     },
     "execution_count": 65,
     "metadata": {},
     "output_type": "execute_result"
    }
   ],
   "source": [
    "l1"
   ]
  },
  {
   "cell_type": "code",
   "execution_count": 89,
   "id": "f4cf562e",
   "metadata": {},
   "outputs": [],
   "source": [
    "l2 = ['Advance Chem','Arts']"
   ]
  },
  {
   "cell_type": "code",
   "execution_count": 91,
   "id": "be943986",
   "metadata": {},
   "outputs": [],
   "source": [
    "l1.extend(l2)"
   ]
  },
  {
   "cell_type": "code",
   "execution_count": 92,
   "id": "3569cce6",
   "metadata": {},
   "outputs": [
    {
     "data": {
      "text/plain": [
       "['Physics',\n",
       " 'Chemistry',\n",
       " 'Mathematics',\n",
       " 'Biology',\n",
       " 5,\n",
       " 5,\n",
       " 'Physics',\n",
       " 'Advance Chem',\n",
       " 'Arts']"
      ]
     },
     "execution_count": 92,
     "metadata": {},
     "output_type": "execute_result"
    }
   ],
   "source": [
    "l1"
   ]
  },
  {
   "cell_type": "code",
   "execution_count": 93,
   "id": "719571a0",
   "metadata": {},
   "outputs": [],
   "source": [
    "l1.insert(0,l2)"
   ]
  },
  {
   "cell_type": "code",
   "execution_count": 94,
   "id": "b3f1efe8",
   "metadata": {},
   "outputs": [
    {
     "data": {
      "text/plain": [
       "[['Advance Chem', 'Arts'],\n",
       " 'Physics',\n",
       " 'Chemistry',\n",
       " 'Mathematics',\n",
       " 'Biology',\n",
       " 5,\n",
       " 5,\n",
       " 'Physics',\n",
       " 'Advance Chem',\n",
       " 'Arts']"
      ]
     },
     "execution_count": 94,
     "metadata": {},
     "output_type": "execute_result"
    }
   ],
   "source": [
    "l1"
   ]
  },
  {
   "cell_type": "code",
   "execution_count": 95,
   "id": "f7c862c2",
   "metadata": {},
   "outputs": [
    {
     "data": {
      "text/plain": [
       "'Advance Chem'"
      ]
     },
     "execution_count": 95,
     "metadata": {},
     "output_type": "execute_result"
    }
   ],
   "source": [
    "l1[0][0]"
   ]
  },
  {
   "cell_type": "code",
   "execution_count": 71,
   "id": "4f265881",
   "metadata": {},
   "outputs": [
    {
     "data": {
      "text/plain": [
       "9"
      ]
     },
     "execution_count": 71,
     "metadata": {},
     "output_type": "execute_result"
    }
   ],
   "source": [
    "len(l1)"
   ]
  },
  {
   "cell_type": "code",
   "execution_count": 74,
   "id": "640a725e",
   "metadata": {},
   "outputs": [],
   "source": [
    "l1.remove('Biology')"
   ]
  },
  {
   "cell_type": "code",
   "execution_count": 75,
   "id": "73de8b3d",
   "metadata": {},
   "outputs": [
    {
     "data": {
      "text/plain": [
       "[['Advance Chem', 'Arts'],\n",
       " 'Advance Physics',\n",
       " 'Physics',\n",
       " 'Chemistry',\n",
       " 'Mathematics',\n",
       " 5,\n",
       " 'Advance Chem',\n",
       " 'Arts']"
      ]
     },
     "execution_count": 75,
     "metadata": {},
     "output_type": "execute_result"
    }
   ],
   "source": [
    "l1"
   ]
  },
  {
   "cell_type": "code",
   "execution_count": 76,
   "id": "3881d260",
   "metadata": {},
   "outputs": [
    {
     "data": {
      "text/plain": [
       "['Advance Chem', 'Arts']"
      ]
     },
     "execution_count": 76,
     "metadata": {},
     "output_type": "execute_result"
    }
   ],
   "source": [
    "l1.pop(0)"
   ]
  },
  {
   "cell_type": "code",
   "execution_count": 77,
   "id": "aeae10cb",
   "metadata": {},
   "outputs": [
    {
     "data": {
      "text/plain": [
       "['Advance Physics',\n",
       " 'Physics',\n",
       " 'Chemistry',\n",
       " 'Mathematics',\n",
       " 5,\n",
       " 'Advance Chem',\n",
       " 'Arts']"
      ]
     },
     "execution_count": 77,
     "metadata": {},
     "output_type": "execute_result"
    }
   ],
   "source": [
    "l1"
   ]
  },
  {
   "cell_type": "code",
   "execution_count": 21,
   "id": "581c5e9f",
   "metadata": {},
   "outputs": [
    {
     "data": {
      "text/plain": [
       "['Physics',\n",
       " 'Chemistry',\n",
       " 'Mathematics',\n",
       " 'Advance Chem',\n",
       " 'Arts',\n",
       " 'Advance Chem',\n",
       " 'Arts']"
      ]
     },
     "execution_count": 21,
     "metadata": {},
     "output_type": "execute_result"
    }
   ],
   "source": [
    "l1"
   ]
  },
  {
   "cell_type": "code",
   "execution_count": null,
   "id": "77bb3f61",
   "metadata": {},
   "outputs": [],
   "source": [
    "l1_sorted"
   ]
  },
  {
   "cell_type": "code",
   "execution_count": 97,
   "id": "4905eb19",
   "metadata": {},
   "outputs": [
    {
     "name": "stdout",
     "output_type": "stream",
     "text": [
      "['Advance Chem', 'Arts']\n",
      "Physics\n",
      "Chemistry\n",
      "Mathematics\n",
      "Biology\n",
      "5\n",
      "5\n",
      "Physics\n",
      "Advance Chem\n",
      "Arts\n"
     ]
    }
   ],
   "source": [
    "for item in l1 :\n",
    "    print (item)"
   ]
  },
  {
   "cell_type": "code",
   "execution_count": 106,
   "id": "6775299a",
   "metadata": {},
   "outputs": [
    {
     "name": "stdout",
     "output_type": "stream",
     "text": [
      "0 Physics\n",
      "1 Chemistry\n",
      "2 Mathematics\n",
      "3 Biology\n",
      "4 5\n",
      "5 Physics\n",
      "6 Advance Chem\n",
      "7 Arts\n"
     ]
    }
   ],
   "source": [
    "for index,item in enumerate(l1):\n",
    "    print(index,item)"
   ]
  },
  {
   "cell_type": "code",
   "execution_count": 107,
   "id": "ebfe2b03",
   "metadata": {},
   "outputs": [
    {
     "data": {
      "text/plain": [
       "5"
      ]
     },
     "execution_count": 107,
     "metadata": {},
     "output_type": "execute_result"
    }
   ],
   "source": [
    "l1.pop(4)"
   ]
  },
  {
   "cell_type": "code",
   "execution_count": 108,
   "id": "b34dd1fb",
   "metadata": {},
   "outputs": [
    {
     "data": {
      "text/plain": [
       "['Physics',\n",
       " 'Chemistry',\n",
       " 'Mathematics',\n",
       " 'Biology',\n",
       " 'Physics',\n",
       " 'Advance Chem',\n",
       " 'Arts']"
      ]
     },
     "execution_count": 108,
     "metadata": {},
     "output_type": "execute_result"
    }
   ],
   "source": [
    "l1"
   ]
  },
  {
   "cell_type": "code",
   "execution_count": 111,
   "id": "63322f81",
   "metadata": {},
   "outputs": [],
   "source": [
    "l1_sep = ','.join(l1)"
   ]
  },
  {
   "cell_type": "code",
   "execution_count": 112,
   "id": "8d6cf223",
   "metadata": {},
   "outputs": [
    {
     "data": {
      "text/plain": [
       "'Physics,Chemistry,Mathematics,Biology,Physics,Advance Chem,Arts'"
      ]
     },
     "execution_count": 112,
     "metadata": {},
     "output_type": "execute_result"
    }
   ],
   "source": [
    "l1_sep"
   ]
  },
  {
   "cell_type": "code",
   "execution_count": 1,
   "id": "32502c8f",
   "metadata": {},
   "outputs": [],
   "source": [
    "list1 = list(range(2,30,3))"
   ]
  },
  {
   "cell_type": "code",
   "execution_count": 2,
   "id": "ae05366b",
   "metadata": {},
   "outputs": [
    {
     "data": {
      "text/plain": [
       "[2, 5, 8, 11, 14, 17, 20, 23, 26, 29]"
      ]
     },
     "execution_count": 2,
     "metadata": {},
     "output_type": "execute_result"
    }
   ],
   "source": [
    "list1"
   ]
  },
  {
   "cell_type": "code",
   "execution_count": 3,
   "id": "8d74b21c",
   "metadata": {},
   "outputs": [],
   "source": [
    "## List comprehension\n",
    "\n",
    "list2 = [x**2 for x in range(1,10)]"
   ]
  },
  {
   "cell_type": "code",
   "execution_count": 4,
   "id": "d2b89730",
   "metadata": {},
   "outputs": [
    {
     "data": {
      "text/plain": [
       "[1, 4, 9, 16, 25, 36, 49, 64, 81]"
      ]
     },
     "execution_count": 4,
     "metadata": {},
     "output_type": "execute_result"
    }
   ],
   "source": [
    "list2 "
   ]
  },
  {
   "cell_type": "code",
   "execution_count": 7,
   "id": "db4f59b9",
   "metadata": {},
   "outputs": [],
   "source": [
    "list3 = [x for x in range(1,20) if x % 9 !=0]"
   ]
  },
  {
   "cell_type": "code",
   "execution_count": 8,
   "id": "5bd538cd",
   "metadata": {},
   "outputs": [
    {
     "data": {
      "text/plain": [
       "[1, 2, 3, 4, 5, 6, 7, 8, 10, 11, 12, 13, 14, 15, 16, 17, 19]"
      ]
     },
     "execution_count": 8,
     "metadata": {},
     "output_type": "execute_result"
    }
   ],
   "source": [
    "list3"
   ]
  },
  {
   "cell_type": "code",
   "execution_count": 9,
   "id": "070717a7",
   "metadata": {},
   "outputs": [],
   "source": [
    "list4 = [12, 36, 56, 36, 36, 50, 56, 12] "
   ]
  },
  {
   "cell_type": "code",
   "execution_count": 12,
   "id": "7c1cdd89",
   "metadata": {},
   "outputs": [],
   "source": [
    "l5 = list(set(list4))"
   ]
  },
  {
   "cell_type": "code",
   "execution_count": 13,
   "id": "aaaac1a8",
   "metadata": {},
   "outputs": [
    {
     "data": {
      "text/plain": [
       "[56, 50, 12, 36]"
      ]
     },
     "execution_count": 13,
     "metadata": {},
     "output_type": "execute_result"
    }
   ],
   "source": [
    "l5"
   ]
  },
  {
   "cell_type": "code",
   "execution_count": null,
   "id": "cc8d5e7c",
   "metadata": {},
   "outputs": [],
   "source": [
    "df['Labels'] = ['Bad' if x < 7.000 else 'Good' if 7.000 <= x < 8.000 else 'Very Good' for x in df['Score']]"
   ]
  },
  {
   "cell_type": "code",
   "execution_count": null,
   "id": "3b1f5d58",
   "metadata": {},
   "outputs": [],
   "source": [
    "df['Labels'].value_counts()"
   ]
  },
  {
   "cell_type": "code",
   "execution_count": 14,
   "id": "0e899587",
   "metadata": {},
   "outputs": [
    {
     "name": "stdout",
     "output_type": "stream",
     "text": [
      "[12, 36, 56, 50]\n"
     ]
    }
   ],
   "source": [
    "list4 = [12, 36, 56, 36, 36, 50, 56, 12] \n",
    "uniq_lst = []\n",
    "[uniq_lst.append(ele) for ele in list4 if ele not in uniq_lst] \n",
    "print(uniq_lst)"
   ]
  },
  {
   "cell_type": "code",
   "execution_count": 15,
   "id": "31763b20",
   "metadata": {},
   "outputs": [],
   "source": [
    "col_list = ['c1','c2','c3','c4','c5']"
   ]
  },
  {
   "cell_type": "code",
   "execution_count": null,
   "id": "695868f0",
   "metadata": {},
   "outputs": [],
   "source": [
    "df1 = df[col_list]"
   ]
  },
  {
   "cell_type": "code",
   "execution_count": null,
   "id": "048c5728",
   "metadata": {},
   "outputs": [],
   "source": [
    "df2 = df1[(df1['c1'] > 50) & (df1['c2'] > 10000)]"
   ]
  },
  {
   "cell_type": "code",
   "execution_count": 16,
   "id": "1852c01e",
   "metadata": {},
   "outputs": [
    {
     "name": "stdout",
     "output_type": "stream",
     "text": [
      "sum of the lstnum is : 294\n"
     ]
    }
   ],
   "source": [
    "lstnum = [12, 36, 56, 36, 36, 50, 56, 12] \n",
    " \n",
    "sum = 0\n",
    " \n",
    "for ele in range(0, len(lstnum)): \n",
    "    sum = sum + lstnum[ele] \n",
    "    \n",
    "print(\"sum of the lstnum is :\",sum)    "
   ]
  },
  {
   "cell_type": "code",
   "execution_count": 35,
   "id": "4f990087",
   "metadata": {},
   "outputs": [
    {
     "name": "stdout",
     "output_type": "stream",
     "text": [
      "multiplication of list items  :  1440\n"
     ]
    }
   ],
   "source": [
    "lstnum1 = [6, 2, 3, 1, 10, 4] \n",
    "mutiply = 1 ;\n",
    "for ele in lstnum1:\n",
    "    mutiply =  mutiply* ele \n",
    " \n",
    "print (\"multiplication of list items  : \" ,mutiply)"
   ]
  },
  {
   "cell_type": "code",
   "execution_count": 36,
   "id": "d2d8f14b",
   "metadata": {},
   "outputs": [
    {
     "name": "stdout",
     "output_type": "stream",
     "text": [
      "flatten list = [5, 6, 7, 'C#', 'C++', 2, 3]\n"
     ]
    }
   ],
   "source": [
    "listnum = [[5,6,7,'C#'], ['C++',2,3]]\n",
    " \n",
    "flatten_list = [ele for sublist in listnum for ele in sublist]\n",
    " \n",
    "print('flatten list =',flatten_list)"
   ]
  },
  {
   "cell_type": "code",
   "execution_count": null,
   "id": "160c47aa",
   "metadata": {},
   "outputs": [],
   "source": [
    "x= ['c1','c2','c3','c4','c5']"
   ]
  },
  {
   "cell_type": "code",
   "execution_count": null,
   "id": "030afd78",
   "metadata": {},
   "outputs": [],
   "source": [
    "import pandas as pd"
   ]
  },
  {
   "cell_type": "code",
   "execution_count": null,
   "id": "2e19eeee",
   "metadata": {},
   "outputs": [],
   "source": [
    "df = pd.read_csv('train.csv')"
   ]
  },
  {
   "cell_type": "code",
   "execution_count": 17,
   "id": "76e6d248",
   "metadata": {},
   "outputs": [
    {
     "name": "stdout",
     "output_type": "stream",
     "text": [
      "intersect of two list = ['C++', 6, 7, 5, 'C#']\n"
     ]
    }
   ],
   "source": [
    "listnum = ['C++',2,3,6,7,5,'C#']\n",
    "listnum1 = ['C++',5,6,7,'C#']\n",
    " \n",
    "intersect_res = [item for item in listnum if item in listnum1]\n",
    " \n",
    "print('intersect of two list =',intersect_res)"
   ]
  },
  {
   "cell_type": "code",
   "execution_count": 39,
   "id": "8bccc3aa",
   "metadata": {},
   "outputs": [
    {
     "name": "stdout",
     "output_type": "stream",
     "text": [
      "first element of each nested list  =  [15, 'C#', 'Go', 'Python']\n"
     ]
    }
   ],
   "source": [
    "lstlng = [[15, 78, 4],['C#',80,7],['Go','Rust','C++'],['Python',12]]\n",
    "each_list_element = [item[0] for item in lstlng] \n",
    " \n",
    "print('first element of each nested list  = ',each_list_element)"
   ]
  },
  {
   "cell_type": "code",
   "execution_count": null,
   "id": "502363b3",
   "metadata": {},
   "outputs": [],
   "source": [
    "n1 = ['c1','c2']"
   ]
  },
  {
   "cell_type": "code",
   "execution_count": 18,
   "id": "87371dbe",
   "metadata": {},
   "outputs": [],
   "source": [
    "n1 = [1,2,3,4]\n",
    "n2 = [5,6,7,8]\n",
    "\n",
    "n3 = list(map(lambda n1,n2 : n1**2 + n2**2,n1,n2))"
   ]
  },
  {
   "cell_type": "code",
   "execution_count": 19,
   "id": "136f9e0a",
   "metadata": {},
   "outputs": [
    {
     "data": {
      "text/plain": [
       "[26, 40, 58, 80]"
      ]
     },
     "execution_count": 19,
     "metadata": {},
     "output_type": "execute_result"
    }
   ],
   "source": [
    "n3"
   ]
  },
  {
   "cell_type": "code",
   "execution_count": 42,
   "id": "a6fac0be",
   "metadata": {},
   "outputs": [
    {
     "name": "stdout",
     "output_type": "stream",
     "text": [
      "[[1, 2, 3], [4, 5, 6], [7, 8, 9]]\n"
     ]
    }
   ],
   "source": [
    "def split(list_a, chunk_size):\n",
    "\n",
    "    for i in range(0, len(list_a), chunk_size):\n",
    "        yield list_a[i:i + chunk_size]\n",
    "\n",
    "chunk_size = 3\n",
    "my_list = [1,2,3,4,5,6,7,8,9]\n",
    "print(list(split(my_list, chunk_size)))"
   ]
  },
  {
   "cell_type": "code",
   "execution_count": 133,
   "id": "6b99ccc4",
   "metadata": {},
   "outputs": [],
   "source": [
    "a = [3, 4, 6, 10, 11, 18]\n",
    "b = [1, 5, 7, 12, 13, 19, 21]"
   ]
  },
  {
   "cell_type": "code",
   "execution_count": 134,
   "id": "cf09291e",
   "metadata": {},
   "outputs": [],
   "source": [
    "a.extend(b)"
   ]
  },
  {
   "cell_type": "code",
   "execution_count": 135,
   "id": "8679e632",
   "metadata": {},
   "outputs": [],
   "source": [
    "c = sorted(a)"
   ]
  },
  {
   "cell_type": "code",
   "execution_count": 136,
   "id": "eb1b8a41",
   "metadata": {},
   "outputs": [
    {
     "data": {
      "text/plain": [
       "[1, 3, 4, 5, 6, 7, 10, 11, 12, 13, 18, 19, 21]"
      ]
     },
     "execution_count": 136,
     "metadata": {},
     "output_type": "execute_result"
    }
   ],
   "source": [
    "c"
   ]
  },
  {
   "cell_type": "code",
   "execution_count": null,
   "id": "9ac37fd2",
   "metadata": {},
   "outputs": [],
   "source": [
    "df['c1'].dtypes"
   ]
  },
  {
   "cell_type": "code",
   "execution_count": null,
   "id": "ac927725",
   "metadata": {},
   "outputs": [],
   "source": [
    "cat_var = [x for x in df.columns if df[x].dtypes == 'object']"
   ]
  },
  {
   "cell_type": "code",
   "execution_count": null,
   "id": "c6b20d56",
   "metadata": {},
   "outputs": [],
   "source": [
    "df_cat = df[cat_var]"
   ]
  },
  {
   "cell_type": "code",
   "execution_count": null,
   "id": "3d5a2aa3",
   "metadata": {},
   "outputs": [],
   "source": [
    "### List application\n",
    "df1.merge(df2, left_on = ['ID1','C1'], right_on = ['ID2','C2'])"
   ]
  },
  {
   "cell_type": "code",
   "execution_count": null,
   "id": "05cc24e5",
   "metadata": {},
   "outputs": [],
   "source": [
    "df.groupby(['c1','c2']).agg({'c3':'sum','c4':'count','c5':'first'})"
   ]
  },
  {
   "cell_type": "code",
   "execution_count": null,
   "id": "4306cb7d",
   "metadata": {},
   "outputs": [],
   "source": [
    "avg_sal = df.groupby(by = ['c1'], as_index = False).agg\n",
    "({'c2' : 'mean'}).rename(columns = {'c2' : 'average_c2'})"
   ]
  },
  {
   "cell_type": "code",
   "execution_count": null,
   "id": "83b5d039",
   "metadata": {},
   "outputs": [],
   "source": [
    "df1 = df[(df['c1'] > 45) & (df['c2'] < 100000)]"
   ]
  },
  {
   "cell_type": "code",
   "execution_count": null,
   "id": "811acc86",
   "metadata": {},
   "outputs": [],
   "source": [
    "df.drop(['c1','c2'],axis=1,inplace=True)"
   ]
  },
  {
   "cell_type": "code",
   "execution_count": null,
   "id": "376fe422",
   "metadata": {},
   "outputs": [],
   "source": [
    "df_cat['gender_f'] = np.where(df_cat['gender'] == 'F',1,0)"
   ]
  },
  {
   "cell_type": "code",
   "execution_count": 21,
   "id": "77a6f5ee",
   "metadata": {},
   "outputs": [],
   "source": [
    "dict1 = {'nitin' : 50,'suresh':80}"
   ]
  },
  {
   "cell_type": "code",
   "execution_count": 22,
   "id": "8146fafb",
   "metadata": {},
   "outputs": [],
   "source": [
    "sentence='The Mississippi River'"
   ]
  },
  {
   "cell_type": "code",
   "execution_count": 23,
   "id": "0b97b914",
   "metadata": {},
   "outputs": [],
   "source": [
    "### dictionary methods\n",
    "def count_ch(s):\n",
    "    d = {}\n",
    "    sen = s.lower()\n",
    "    for s in sen :\n",
    "        d[s] = d.get(s,0) + 1 \n",
    "    return d    "
   ]
  },
  {
   "cell_type": "code",
   "execution_count": 24,
   "id": "af51709b",
   "metadata": {},
   "outputs": [
    {
     "name": "stdout",
     "output_type": "stream",
     "text": [
      "{'t': 1, 'h': 1, 'e': 2, ' ': 2, 'm': 1, 'i': 5, 's': 4, 'p': 2, 'r': 2, 'v': 1}\n"
     ]
    }
   ],
   "source": [
    "print(count_ch(sentence))"
   ]
  },
  {
   "cell_type": "code",
   "execution_count": 148,
   "id": "9edea3f2",
   "metadata": {},
   "outputs": [],
   "source": [
    "word_cnt = dict((c,sentence.count(c)) for c in sentence)"
   ]
  },
  {
   "cell_type": "code",
   "execution_count": 149,
   "id": "6a90546e",
   "metadata": {},
   "outputs": [
    {
     "data": {
      "text/plain": [
       "{'T': 1,\n",
       " 'h': 1,\n",
       " 'e': 2,\n",
       " ' ': 2,\n",
       " 'M': 1,\n",
       " 'i': 5,\n",
       " 's': 4,\n",
       " 'p': 2,\n",
       " 'R': 1,\n",
       " 'v': 1,\n",
       " 'r': 1}"
      ]
     },
     "execution_count": 149,
     "metadata": {},
     "output_type": "execute_result"
    }
   ],
   "source": [
    "word_cnt"
   ]
  },
  {
   "cell_type": "code",
   "execution_count": 6,
   "id": "8e595a89",
   "metadata": {},
   "outputs": [],
   "source": [
    "ss = \"\"\"Nory was a Catholic because her mother was a Catholic, \n",
    "and Nory's mother was a Catholic because her father was a Catholic, \n",
    "and her father was a Catholic because his mother was a Catholic, \n",
    "or had been.\"\"\""
   ]
  },
  {
   "cell_type": "code",
   "execution_count": 8,
   "id": "a80b85dd",
   "metadata": {},
   "outputs": [],
   "source": [
    "words = ss.split()"
   ]
  },
  {
   "cell_type": "code",
   "execution_count": 9,
   "id": "3dfa298b",
   "metadata": {},
   "outputs": [],
   "source": [
    "d = {x:0 for x in words}"
   ]
  },
  {
   "cell_type": "code",
   "execution_count": 10,
   "id": "2daf4e24",
   "metadata": {},
   "outputs": [],
   "source": [
    "for i in words :\n",
    "    d[i] += 1"
   ]
  },
  {
   "cell_type": "code",
   "execution_count": 11,
   "id": "6748c6a9",
   "metadata": {},
   "outputs": [
    {
     "name": "stdout",
     "output_type": "stream",
     "text": [
      "{'Nory': 1, 'was': 6, 'a': 6, 'Catholic': 3, 'because': 3, 'her': 3, 'mother': 3, 'Catholic,': 3, 'and': 2, \"Nory's\": 1, 'father': 2, 'his': 1, 'or': 1, 'had': 1, 'been.': 1}\n"
     ]
    }
   ],
   "source": [
    "print(d)"
   ]
  },
  {
   "cell_type": "code",
   "execution_count": 12,
   "id": "6cd9f5ad",
   "metadata": {},
   "outputs": [
    {
     "name": "stdout",
     "output_type": "stream",
     "text": [
      "[('was', 6), ('a', 6), ('Catholic', 3), ('because', 3), ('her', 3), ('mother', 3), ('Catholic,', 3), ('and', 2), ('father', 2), ('Nory', 1), (\"Nory's\", 1), ('his', 1), ('or', 1), ('had', 1), ('been.', 1)]\n"
     ]
    }
   ],
   "source": [
    "ds = sorted(d.items(), key=lambda x:x[1], reverse=True)\n",
    "print(ds)"
   ]
  },
  {
   "cell_type": "code",
   "execution_count": 150,
   "id": "caa0a753",
   "metadata": {},
   "outputs": [],
   "source": [
    "atrr_flag = {'Existing Customer':0,'Attrited Customer':1}"
   ]
  },
  {
   "cell_type": "code",
   "execution_count": null,
   "id": "d9c9567a",
   "metadata": {},
   "outputs": [],
   "source": [
    "df['Attrition_Flag'] = df['Attrition_Flag'].map(atrr_flag)"
   ]
  },
  {
   "cell_type": "code",
   "execution_count": 122,
   "id": "8d48d25c",
   "metadata": {},
   "outputs": [
    {
     "name": "stdout",
     "output_type": "stream",
     "text": [
      "20\n"
     ]
    }
   ],
   "source": [
    "tuple3 = (\"Orange\", [10, 20, 30], (5, 15, 25))\n",
    "tuple4 = tuple3[1][1]\n",
    "print(tuple4)"
   ]
  },
  {
   "cell_type": "code",
   "execution_count": 131,
   "id": "2f37c583",
   "metadata": {},
   "outputs": [
    {
     "name": "stdout",
     "output_type": "stream",
     "text": [
      "(11, [222, 33], 44, 55)\n"
     ]
    }
   ],
   "source": [
    "tuple1 = (11, [22, 33], 44, 55)\n",
    "tuple1[1][0] = 222\n",
    "print(tuple1)"
   ]
  },
  {
   "cell_type": "code",
   "execution_count": 124,
   "id": "09139609",
   "metadata": {},
   "outputs": [
    {
     "name": "stdout",
     "output_type": "stream",
     "text": [
      "(11, 22)\n",
      "(99, 88)\n"
     ]
    }
   ],
   "source": [
    "tuple1 = (11, 22)\n",
    "tuple2 = (99, 88)\n",
    "tuple1, tuple2 = tuple2, tuple1\n",
    "print(tuple2)\n",
    "print(tuple1)"
   ]
  },
  {
   "cell_type": "code",
   "execution_count": null,
   "id": "533fc478",
   "metadata": {},
   "outputs": [],
   "source": [
    "tuple1 = (('a', 23), ('b', 37), ('c', 11), ('d', 29))\n",
    "tuple1 = tuple(sorted(list(tuple1), key=lambda x: x[1]))\n",
    "print(tuple1)"
   ]
  },
  {
   "cell_type": "code",
   "execution_count": null,
   "id": "48f68790",
   "metadata": {},
   "outputs": [],
   "source": [
    "### Set are unordered with no duplicates\n"
   ]
  },
  {
   "cell_type": "markdown",
   "id": "55ee6bc7",
   "metadata": {},
   "source": [
    "Method\t- Description\n",
    "clear()\t- Removes all items from the dictionary.\n",
    "copy()\t- Returns a shallow copy of the dictionary.\n",
    "fromkeys(seq[, v])\t- Returns a new dictionary with keys from seq and value equal to v (defaults to None).\n",
    "get(key[,d])\t- Returns the value of the key. If the key does not exist, returns d (defaults to None).\n",
    "items()\t- Return a new object of the dictionary's items in (key, value) format.\n",
    "keys()\t- Returns a new object of the dictionary's keys.\n",
    "pop(key[,d]) - Removes the item with the key and returns its value or d if key is not found. If d is not provided and the key is not found, it raises KeyError.\n",
    "popitem()\t- Removes and returns an arbitrary item (key, value). Raises KeyError if the dictionary is empty.\n",
    "setdefault(key[,d])\t- Returns the corresponding value if the key is in the dictionary. If not, inserts the key with a value of d and returns d (defaults to None).\n",
    "update([other])\t- Updates the dictionary with the key/value pairs from other, overwriting existing keys.\n",
    "values()\t- Returns a new object of the dictionary's values"
   ]
  },
  {
   "cell_type": "code",
   "execution_count": null,
   "id": "98fd024f",
   "metadata": {},
   "outputs": [],
   "source": [
    "# empty dictionary\n",
    "my_dict = {}\n",
    "\n",
    "# dictionary with integer keys\n",
    "my_dict1 = {1 : 'apple', 2 : 'ball'}\n",
    "\n",
    "# dictionary with mixed keys\n",
    "my_dict2 = {'name': 'John', 1: [2, 4, 3]}\n",
    "\n",
    "# using dict()\n",
    "my_dict3 = dict({1:'apple', 2:'ball'})\n",
    "\n",
    "# from sequence having each item as a pair\n",
    "my_dict4 = dict([(1,'apple'), (2,'ball')])"
   ]
  },
  {
   "cell_type": "code",
   "execution_count": null,
   "id": "5971a991",
   "metadata": {},
   "outputs": [],
   "source": [
    "my_dict2"
   ]
  },
  {
   "cell_type": "code",
   "execution_count": null,
   "id": "52883991",
   "metadata": {},
   "outputs": [],
   "source": [
    "# get vs [] for retrieving elements\n",
    "my_dict = {'name': 'Jack', 'age': 26}\n",
    "\n",
    "# Output: Jack\n",
    "print(my_dict['name'])\n",
    "\n",
    "# Output: 26\n",
    "print(my_dict.get('age'))"
   ]
  },
  {
   "cell_type": "code",
   "execution_count": null,
   "id": "439c9f26",
   "metadata": {},
   "outputs": [],
   "source": [
    "# Changing and adding Dictionary Elements\n",
    "my_dict = {'name': 'Jack', 'age': 26}\n",
    "\n",
    "# update value\n",
    "my_dict['age'] = 27\n",
    "\n",
    "#Output: {'age': 27, 'name': 'Jack'}\n",
    "print(my_dict)\n",
    "\n",
    "# add item\n",
    "my_dict['address'] = 'Downtown'\n",
    "\n",
    "# Output: {'address': 'Downtown', 'age': 27, 'name': 'Jack'}\n",
    "print(my_dict)"
   ]
  },
  {
   "cell_type": "code",
   "execution_count": 125,
   "id": "86fb4e72",
   "metadata": {},
   "outputs": [],
   "source": [
    "# Dictionary Methods\n",
    "marks = {}.fromkeys(['Math', 'English', 'Science'],0)"
   ]
  },
  {
   "cell_type": "code",
   "execution_count": 126,
   "id": "66ec8691",
   "metadata": {},
   "outputs": [
    {
     "data": {
      "text/plain": [
       "{'Math': 0, 'English': 0, 'Science': 0}"
      ]
     },
     "execution_count": 126,
     "metadata": {},
     "output_type": "execute_result"
    }
   ],
   "source": [
    "marks"
   ]
  },
  {
   "cell_type": "code",
   "execution_count": 127,
   "id": "5241b01a",
   "metadata": {},
   "outputs": [
    {
     "name": "stdout",
     "output_type": "stream",
     "text": [
      "['English', 'Math', 'Science']\n",
      "['English', 'Math', 'Science']\n",
      "['English', 'Math', 'Science']\n"
     ]
    }
   ],
   "source": [
    "for items in marks.items() :\n",
    "    print(list(sorted(marks.keys())))"
   ]
  },
  {
   "cell_type": "code",
   "execution_count": 128,
   "id": "b8b88e5a",
   "metadata": {},
   "outputs": [
    {
     "name": "stdout",
     "output_type": "stream",
     "text": [
      "{0: 0, 1: 1, 2: 4, 3: 9, 4: 16, 5: 25}\n"
     ]
    }
   ],
   "source": [
    "# Dictionary Comprehension\n",
    "squares = {x: x*x for x in range(6)}\n",
    "\n",
    "print(squares)"
   ]
  },
  {
   "cell_type": "code",
   "execution_count": 129,
   "id": "dc56d157",
   "metadata": {},
   "outputs": [
    {
     "name": "stdout",
     "output_type": "stream",
     "text": [
      "{0: 0, 1: 1, 2: 4, 3: 9, 4: 16, 5: 25}\n"
     ]
    }
   ],
   "source": [
    "squares = {}\n",
    "for x in range(6):\n",
    "    squares[x] = x*x\n",
    "print(squares)"
   ]
  },
  {
   "cell_type": "code",
   "execution_count": null,
   "id": "2589d0e2",
   "metadata": {},
   "outputs": [],
   "source": [
    "# Membership Test for Dictionary Keys\n",
    "squares = {1: 1, 3: 9, 5: 25, 7: 49, 9: 81}\n",
    "\n",
    "# Output: True\n",
    "print(1 in squares)"
   ]
  },
  {
   "cell_type": "code",
   "execution_count": null,
   "id": "5678079b",
   "metadata": {},
   "outputs": [],
   "source": [
    "odd_num = {x : x**3 for x in range(1,11) if x % 2 == 1}"
   ]
  },
  {
   "cell_type": "code",
   "execution_count": null,
   "id": "b15b5286",
   "metadata": {},
   "outputs": [],
   "source": [
    "odd_num"
   ]
  },
  {
   "cell_type": "code",
   "execution_count": 25,
   "id": "34aa483e",
   "metadata": {},
   "outputs": [
    {
     "name": "stdout",
     "output_type": "stream",
     "text": [
      "1\n",
      "9\n",
      "25\n",
      "49\n",
      "81\n"
     ]
    }
   ],
   "source": [
    "# Iterating through a Dictionary\n",
    "squares = {1: 1, 3: 9, 5: 25, 7: 49, 9: 81}\n",
    "for i in squares:\n",
    "    print(squares[i])"
   ]
  },
  {
   "cell_type": "code",
   "execution_count": null,
   "id": "5e084e17",
   "metadata": {},
   "outputs": [],
   "source": []
  }
 ],
 "metadata": {
  "kernelspec": {
   "display_name": "Python 3 (ipykernel)",
   "language": "python",
   "name": "python3"
  },
  "language_info": {
   "codemirror_mode": {
    "name": "ipython",
    "version": 3
   },
   "file_extension": ".py",
   "mimetype": "text/x-python",
   "name": "python",
   "nbconvert_exporter": "python",
   "pygments_lexer": "ipython3",
   "version": "3.9.7"
  }
 },
 "nbformat": 4,
 "nbformat_minor": 5
}
