{
 "cells": [
  {
   "cell_type": "code",
   "execution_count": 96,
   "id": "4f10b744",
   "metadata": {},
   "outputs": [
    {
     "name": "stdout",
     "output_type": "stream",
     "text": [
      "[[1 2 3]\n",
      " [4 5 6]\n",
      " [7 8 9]]\n"
     ]
    }
   ],
   "source": [
    "import numpy as np\n",
    "b = np.array([[1,2,3],[4,5,6],[7,8,9]])\n",
    "print(b)"
   ]
  },
  {
   "cell_type": "code",
   "execution_count": 97,
   "id": "93c202d7",
   "metadata": {},
   "outputs": [
    {
     "data": {
      "text/plain": [
       "2"
      ]
     },
     "execution_count": 97,
     "metadata": {},
     "output_type": "execute_result"
    }
   ],
   "source": [
    "b.ndim"
   ]
  },
  {
   "cell_type": "code",
   "execution_count": 99,
   "id": "95c71e67",
   "metadata": {},
   "outputs": [
    {
     "name": "stdout",
     "output_type": "stream",
     "text": [
      "[12 15 18]\n"
     ]
    }
   ],
   "source": [
    "b1 = np.sum([[1,2,3],[4,5,6],[7,8,9]],axis=0)\n",
    "print(b1)"
   ]
  },
  {
   "cell_type": "code",
   "execution_count": 100,
   "id": "ed9d9f92",
   "metadata": {},
   "outputs": [
    {
     "name": "stdout",
     "output_type": "stream",
     "text": [
      "[[1. 1. 1. 1.]\n",
      " [1. 1. 1. 1.]\n",
      " [1. 1. 1. 1.]]\n"
     ]
    }
   ],
   "source": [
    "c = np.ones((3,4))\n",
    "print(c)"
   ]
  },
  {
   "cell_type": "code",
   "execution_count": 7,
   "id": "cefbf3ea",
   "metadata": {},
   "outputs": [
    {
     "data": {
      "text/plain": [
       "2"
      ]
     },
     "execution_count": 7,
     "metadata": {},
     "output_type": "execute_result"
    }
   ],
   "source": [
    "c.ndim"
   ]
  },
  {
   "cell_type": "code",
   "execution_count": 101,
   "id": "07dae444",
   "metadata": {},
   "outputs": [
    {
     "name": "stdout",
     "output_type": "stream",
     "text": [
      "[1 4 7]\n"
     ]
    }
   ],
   "source": [
    "d = np.arange(1,10,3)\n",
    "print(d)"
   ]
  },
  {
   "cell_type": "code",
   "execution_count": 102,
   "id": "95b7a096",
   "metadata": {},
   "outputs": [
    {
     "name": "stdout",
     "output_type": "stream",
     "text": [
      "[2.         2.85714286 3.71428571 4.57142857 5.42857143 6.28571429\n",
      " 7.14285714 8.        ]\n"
     ]
    }
   ],
   "source": [
    "e = np.linspace(2,8,8)\n",
    "print(e)"
   ]
  },
  {
   "cell_type": "markdown",
   "id": "94e845a1",
   "metadata": {},
   "source": [
    "## Filling same number in an array"
   ]
  },
  {
   "cell_type": "code",
   "execution_count": 104,
   "id": "4ec1dd19",
   "metadata": {},
   "outputs": [
    {
     "name": "stdout",
     "output_type": "stream",
     "text": [
      "[[10 10 10 10]\n",
      " [10 10 10 10]\n",
      " [10 10 10 10]]\n"
     ]
    }
   ],
   "source": [
    "f = np.full((3,4),10)\n",
    "print(f)"
   ]
  },
  {
   "cell_type": "markdown",
   "id": "1b561c22",
   "metadata": {},
   "source": [
    "## Generating random numbers"
   ]
  },
  {
   "cell_type": "code",
   "execution_count": 105,
   "id": "bfd94d5d",
   "metadata": {},
   "outputs": [
    {
     "name": "stdout",
     "output_type": "stream",
     "text": [
      "[[0.09722953 0.46043609 0.50823474]\n",
      " [0.85986027 0.59875431 0.06623478]]\n"
     ]
    }
   ],
   "source": [
    "g = np.random.random((2,3))\n",
    "print(g)"
   ]
  },
  {
   "cell_type": "code",
   "execution_count": 106,
   "id": "565df1d5",
   "metadata": {},
   "outputs": [
    {
     "data": {
      "text/plain": [
       "(2, 3)"
      ]
     },
     "execution_count": 106,
     "metadata": {},
     "output_type": "execute_result"
    }
   ],
   "source": [
    "g.shape"
   ]
  },
  {
   "cell_type": "markdown",
   "id": "c681b678",
   "metadata": {},
   "source": [
    "## Rearranging arrays"
   ]
  },
  {
   "cell_type": "code",
   "execution_count": 112,
   "id": "8372f9e7",
   "metadata": {},
   "outputs": [
    {
     "name": "stdout",
     "output_type": "stream",
     "text": [
      "[[1 2]\n",
      " [3 4]\n",
      " [5 6]\n",
      " [7 8]]\n"
     ]
    }
   ],
   "source": [
    "a = np.array([[1,2,3,4],[5,6,7,8]])\n",
    "a.shape = (4,2)\n",
    "print(a)"
   ]
  },
  {
   "cell_type": "code",
   "execution_count": 114,
   "id": "09920ec1",
   "metadata": {},
   "outputs": [
    {
     "name": "stdout",
     "output_type": "stream",
     "text": [
      "[[ 0  1  2  3  4  5  6  7]\n",
      " [ 8  9 10 11 12 13 14 15]]\n"
     ]
    }
   ],
   "source": [
    "x10 = np.arange(16).reshape(2,8)\n",
    "print(x10)"
   ]
  },
  {
   "cell_type": "code",
   "execution_count": 115,
   "id": "5c2b7813",
   "metadata": {},
   "outputs": [
    {
     "name": "stdout",
     "output_type": "stream",
     "text": [
      "[ 5 12 21 32]\n"
     ]
    }
   ],
   "source": [
    "x2 = np.array([1,2,3,4])\n",
    "x3 = np.array([5,6,7,8])\n",
    "x4 = np.multiply(x2,x3)\n",
    "print(x4)"
   ]
  },
  {
   "cell_type": "code",
   "execution_count": 117,
   "id": "639fb562",
   "metadata": {},
   "outputs": [
    {
     "name": "stdout",
     "output_type": "stream",
     "text": [
      "[ 2.71828183  7.3890561  20.08553692 54.59815003]\n"
     ]
    }
   ],
   "source": [
    "print(np.exp(x2))"
   ]
  },
  {
   "cell_type": "code",
   "execution_count": 118,
   "id": "ff157b1c",
   "metadata": {},
   "outputs": [
    {
     "name": "stdout",
     "output_type": "stream",
     "text": [
      "sqrt of array :  [2.23606798 3.46410162 4.58257569 5.65685425]\n"
     ]
    }
   ],
   "source": [
    "print(\"sqrt of array : \" ,np.sqrt(x4))"
   ]
  },
  {
   "cell_type": "code",
   "execution_count": 119,
   "id": "4d7a732a",
   "metadata": {},
   "outputs": [
    {
     "name": "stdout",
     "output_type": "stream",
     "text": [
      "sin of array :  [-0.95892427 -0.2794155   0.6569866   0.98935825]\n"
     ]
    }
   ],
   "source": [
    "print(\"sin of array : \" ,np.sin(x3))"
   ]
  },
  {
   "cell_type": "code",
   "execution_count": 18,
   "id": "88c8c7d0",
   "metadata": {},
   "outputs": [
    {
     "name": "stdout",
     "output_type": "stream",
     "text": [
      "1.0\n"
     ]
    }
   ],
   "source": [
    "print(np.corrcoef(x4))"
   ]
  },
  {
   "cell_type": "code",
   "execution_count": 120,
   "id": "89d9515c",
   "metadata": {},
   "outputs": [
    {
     "name": "stdout",
     "output_type": "stream",
     "text": [
      "Broadcast : [[ 3  5  9 12]\n",
      " [ 9 12 17 20]\n",
      " [17 20 25 28]]\n"
     ]
    }
   ],
   "source": [
    "x5 = np.array([[0,1,2,4],[6,8,10,12],[14,16,18,20]])\n",
    "x6 = np.array([3,4,7,8])\n",
    "\n",
    "print(\"Broadcast :\",x5+x6)"
   ]
  },
  {
   "cell_type": "code",
   "execution_count": 121,
   "id": "8cf1197c",
   "metadata": {},
   "outputs": [
    {
     "name": "stdout",
     "output_type": "stream",
     "text": [
      "[ 5  6  7  8  5 12 21 32]\n"
     ]
    }
   ],
   "source": [
    "x7 = np.hstack((x3,x4))\n",
    "print(x7)"
   ]
  },
  {
   "cell_type": "code",
   "execution_count": 122,
   "id": "8adbb689",
   "metadata": {},
   "outputs": [
    {
     "name": "stdout",
     "output_type": "stream",
     "text": [
      "[[ 5  6  7  8]\n",
      " [ 5 12 21 32]]\n"
     ]
    }
   ],
   "source": [
    "x8 = np.vstack((x3,x4))\n",
    "print(x8)"
   ]
  },
  {
   "cell_type": "code",
   "execution_count": 123,
   "id": "0bbe3776",
   "metadata": {},
   "outputs": [
    {
     "name": "stdout",
     "output_type": "stream",
     "text": [
      "[ 5  6  7  8  5 12 21 32]\n"
     ]
    }
   ],
   "source": [
    "x9 = np.concatenate((x3,x4))\n",
    "print(x9)"
   ]
  },
  {
   "cell_type": "code",
   "execution_count": 124,
   "id": "0020d59b",
   "metadata": {},
   "outputs": [],
   "source": [
    "x = np.array([[1, 2], [3, 4],[5,6]])\n",
    "y = np.array([[7, 8],[9,10],[11,12]])"
   ]
  },
  {
   "cell_type": "code",
   "execution_count": 127,
   "id": "7128a335",
   "metadata": {},
   "outputs": [],
   "source": [
    "z = np.concatenate((x, y), axis=1)"
   ]
  },
  {
   "cell_type": "code",
   "execution_count": 128,
   "id": "432fbbe1",
   "metadata": {},
   "outputs": [
    {
     "data": {
      "text/plain": [
       "array([[ 1,  2,  7,  8],\n",
       "       [ 3,  4,  9, 10],\n",
       "       [ 5,  6, 11, 12]])"
      ]
     },
     "execution_count": 128,
     "metadata": {},
     "output_type": "execute_result"
    }
   ],
   "source": [
    "z"
   ]
  },
  {
   "cell_type": "code",
   "execution_count": 132,
   "id": "cbbecd48",
   "metadata": {},
   "outputs": [
    {
     "data": {
      "text/plain": [
       "array([1, 3, 5])"
      ]
     },
     "execution_count": 132,
     "metadata": {},
     "output_type": "execute_result"
    }
   ],
   "source": [
    "z.min(axis=1)"
   ]
  },
  {
   "cell_type": "code",
   "execution_count": 65,
   "id": "44811064",
   "metadata": {},
   "outputs": [],
   "source": [
    "a1 = np.array([11, 11, 12, 13, 14, 15, 16, 17, 12, 13, 11, 14, 18, 19, 20])"
   ]
  },
  {
   "cell_type": "code",
   "execution_count": 70,
   "id": "bd50687e",
   "metadata": {},
   "outputs": [
    {
     "data": {
      "text/plain": [
       "array([11, 12, 13, 14, 15, 16, 17, 18, 19, 20])"
      ]
     },
     "execution_count": 70,
     "metadata": {},
     "output_type": "execute_result"
    }
   ],
   "source": [
    "np.unique(a1)"
   ]
  },
  {
   "cell_type": "code",
   "execution_count": 134,
   "id": "1e66936a",
   "metadata": {},
   "outputs": [
    {
     "data": {
      "text/plain": [
       "array([ 1,  2,  7,  8,  3,  4,  9, 10,  5,  6, 11, 12])"
      ]
     },
     "execution_count": 134,
     "metadata": {},
     "output_type": "execute_result"
    }
   ],
   "source": [
    "z.ravel()"
   ]
  },
  {
   "cell_type": "code",
   "execution_count": 135,
   "id": "11c9aad1",
   "metadata": {},
   "outputs": [],
   "source": [
    "def square(a):\n",
    "    return a**2"
   ]
  },
  {
   "cell_type": "code",
   "execution_count": 136,
   "id": "b0b2d495",
   "metadata": {},
   "outputs": [],
   "source": [
    "x11 = square(z.flatten())"
   ]
  },
  {
   "cell_type": "code",
   "execution_count": 137,
   "id": "a5545b24",
   "metadata": {},
   "outputs": [
    {
     "data": {
      "text/plain": [
       "array([  1,   4,  49,  64,   9,  16,  81, 100,  25,  36, 121, 144],\n",
       "      dtype=int32)"
      ]
     },
     "execution_count": 137,
     "metadata": {},
     "output_type": "execute_result"
    }
   ],
   "source": [
    "x11"
   ]
  },
  {
   "cell_type": "code",
   "execution_count": 138,
   "id": "8e9ad4a1",
   "metadata": {},
   "outputs": [
    {
     "data": {
      "text/plain": [
       "[array([[0, 1],\n",
       "        [8, 9]]),\n",
       " array([[ 2,  3],\n",
       "        [10, 11]]),\n",
       " array([[ 4,  5],\n",
       "        [12, 13]]),\n",
       " array([[ 6,  7],\n",
       "        [14, 15]])]"
      ]
     },
     "execution_count": 138,
     "metadata": {},
     "output_type": "execute_result"
    }
   ],
   "source": [
    "np.hsplit(x10,4)"
   ]
  },
  {
   "cell_type": "code",
   "execution_count": 139,
   "id": "6a94483f",
   "metadata": {},
   "outputs": [],
   "source": [
    "### dot product\n",
    "a=np.array([[1,2],[3,4]])\n",
    "b=np.array([[11,12],[13,14]])"
   ]
  },
  {
   "cell_type": "code",
   "execution_count": 140,
   "id": "dba91589",
   "metadata": {},
   "outputs": [
    {
     "name": "stdout",
     "output_type": "stream",
     "text": [
      "dot product : [[37 40]\n",
      " [85 92]]\n"
     ]
    }
   ],
   "source": [
    "print(\"dot product :\",a.dot(b))"
   ]
  },
  {
   "cell_type": "code",
   "execution_count": 6,
   "id": "eb04a51b",
   "metadata": {},
   "outputs": [
    {
     "name": "stdout",
     "output_type": "stream",
     "text": [
      "inner product : [[35 41]\n",
      " [81 95]]\n"
     ]
    }
   ],
   "source": [
    "print(\"inner product :\",np.inner(a,b))"
   ]
  },
  {
   "cell_type": "code",
   "execution_count": 7,
   "id": "a490faa5",
   "metadata": {},
   "outputs": [
    {
     "data": {
      "text/plain": [
       "array([[1, 2],\n",
       "       [3, 4]])"
      ]
     },
     "execution_count": 7,
     "metadata": {},
     "output_type": "execute_result"
    }
   ],
   "source": [
    "a"
   ]
  },
  {
   "cell_type": "code",
   "execution_count": 8,
   "id": "62d9dfaf",
   "metadata": {},
   "outputs": [
    {
     "data": {
      "text/plain": [
       "array([[11, 12],\n",
       "       [13, 14]])"
      ]
     },
     "execution_count": 8,
     "metadata": {},
     "output_type": "execute_result"
    }
   ],
   "source": [
    "b"
   ]
  },
  {
   "cell_type": "code",
   "execution_count": 141,
   "id": "5b32dab6",
   "metadata": {},
   "outputs": [
    {
     "name": "stdout",
     "output_type": "stream",
     "text": [
      "[[10.]\n",
      " [20.]]\n"
     ]
    }
   ],
   "source": [
    "x = np.matrix(\"10.;20.\")\n",
    "print(x)"
   ]
  },
  {
   "cell_type": "code",
   "execution_count": 142,
   "id": "94f44800",
   "metadata": {},
   "outputs": [
    {
     "name": "stdout",
     "output_type": "stream",
     "text": [
      "[[ 50.]\n",
      " [110.]\n",
      " [170.]]\n"
     ]
    }
   ],
   "source": [
    "### Matrix vector multiplication\n",
    "A = np.matrix([[1.,2], [3,4], [5,6]])\n",
    "print(A*x)"
   ]
  },
  {
   "cell_type": "markdown",
   "id": "cd5178aa",
   "metadata": {},
   "source": [
    "### Matrix Multiplication"
   ]
  },
  {
   "cell_type": "code",
   "execution_count": 29,
   "id": "78c4e803",
   "metadata": {},
   "outputs": [],
   "source": [
    "a = np.array([[1,2],[3,4]]) \n",
    "b = np.array([[11,12],[13,14]]) "
   ]
  },
  {
   "cell_type": "code",
   "execution_count": 30,
   "id": "20943119",
   "metadata": {},
   "outputs": [
    {
     "data": {
      "text/plain": [
       "array([[37, 40],\n",
       "       [85, 92]])"
      ]
     },
     "execution_count": 30,
     "metadata": {},
     "output_type": "execute_result"
    }
   ],
   "source": [
    "np.dot(a,b)"
   ]
  },
  {
   "cell_type": "code",
   "execution_count": 9,
   "id": "4ba95fbc",
   "metadata": {},
   "outputs": [
    {
     "data": {
      "text/plain": [
       "array([[35, 41],\n",
       "       [81, 95]])"
      ]
     },
     "execution_count": 9,
     "metadata": {},
     "output_type": "execute_result"
    }
   ],
   "source": [
    "np.inner(a1,b1)"
   ]
  },
  {
   "cell_type": "markdown",
   "id": "ced7a835",
   "metadata": {},
   "source": [
    "### Principal Component Analysis\n",
    "\n",
    "Principal Components represent the directions of the data that specify a maximum amount of variance i.e. the lines that capture most information present in the data"
   ]
  },
  {
   "cell_type": "markdown",
   "id": "a9d59b4e",
   "metadata": {},
   "source": [
    "1. Standardization of the continuous variables of the dataset.\n",
    "\n",
    "2. Computing the Co-variance Matrix to identify Co-relations.\n",
    "\n",
    "3. Computing the Eigen Values and Eigenvectors of the covariance Matrix to identify the Principal Components.\n",
    "\n",
    "4. Deciding on the Principal Components to be kept for further analysis based on the variation in the Components using the Scree Plot.\n",
    "\n",
    "5. Recast the data along the Principal Component’s axes."
   ]
  },
  {
   "cell_type": "code",
   "execution_count": null,
   "id": "d4b082a7",
   "metadata": {},
   "outputs": [],
   "source": [
    "A*v =   l*v"
   ]
  },
  {
   "cell_type": "code",
   "execution_count": 78,
   "id": "ac0fc9da",
   "metadata": {},
   "outputs": [],
   "source": [
    "a2 = np.array([[-6,3], [4,5]])  \n",
    "b2 = np.array([1, 4])"
   ]
  },
  {
   "cell_type": "code",
   "execution_count": 143,
   "id": "56901267",
   "metadata": {},
   "outputs": [
    {
     "data": {
      "text/plain": [
       "array([ 6, 24])"
      ]
     },
     "execution_count": 143,
     "metadata": {},
     "output_type": "execute_result"
    }
   ],
   "source": [
    "np.dot(a2,b2)"
   ]
  },
  {
   "cell_type": "code",
   "execution_count": null,
   "id": "7a029f32",
   "metadata": {},
   "outputs": [],
   "source": [
    "6*b2"
   ]
  },
  {
   "cell_type": "code",
   "execution_count": 144,
   "id": "58b1020f",
   "metadata": {},
   "outputs": [],
   "source": [
    "a3 = np.array([[2,0,0],[0,4,5]\n",
    "              ,[0,4,3]])  \n",
    "b3 = np.array([0,1,-1])"
   ]
  },
  {
   "cell_type": "code",
   "execution_count": 145,
   "id": "0dfa7308",
   "metadata": {},
   "outputs": [
    {
     "data": {
      "text/plain": [
       "array([ 0, -1,  1])"
      ]
     },
     "execution_count": 145,
     "metadata": {},
     "output_type": "execute_result"
    }
   ],
   "source": [
    "np.dot(a3,b3)"
   ]
  },
  {
   "cell_type": "code",
   "execution_count": null,
   "id": "cc03d740",
   "metadata": {},
   "outputs": [],
   "source": [
    "-1*b3"
   ]
  },
  {
   "cell_type": "code",
   "execution_count": 85,
   "id": "6ea6b691",
   "metadata": {},
   "outputs": [],
   "source": [
    "import pandas as pd"
   ]
  },
  {
   "cell_type": "code",
   "execution_count": 86,
   "id": "c3c72148",
   "metadata": {},
   "outputs": [],
   "source": [
    "pd.options.display.float_format = '{:20,.2f}'.format"
   ]
  },
  {
   "cell_type": "code",
   "execution_count": 82,
   "id": "cc4a6d31",
   "metadata": {},
   "outputs": [
    {
     "name": "stdout",
     "output_type": "stream",
     "text": [
      "Covariance Matrix : [[50. 10.]\n",
      " [10.  2.]]\n"
     ]
    }
   ],
   "source": [
    "cov_matrix = np.cov(a2.T)\n",
    "print('Covariance Matrix :', cov_matrix)"
   ]
  },
  {
   "cell_type": "code",
   "execution_count": 88,
   "id": "2c7d4509",
   "metadata": {},
   "outputs": [
    {
     "name": "stdout",
     "output_type": "stream",
     "text": [
      "n Eigen Values : [ 5.20000000e+01 -3.88578059e-16]\n",
      "Eigen Vectors : [[ 0.98058068 -0.19611614]\n",
      " [ 0.19611614  0.98058068]]\n"
     ]
    }
   ],
   "source": [
    "eig_vals, eig_vecs = np.linalg.eig(cov_matrix)\n",
    "print('n Eigen Values :', eig_vals)\n",
    "print('Eigen Vectors :', eig_vecs)"
   ]
  },
  {
   "cell_type": "code",
   "execution_count": null,
   "id": "ba00cc9d",
   "metadata": {},
   "outputs": [],
   "source": []
  }
 ],
 "metadata": {
  "kernelspec": {
   "display_name": "Python 3 (ipykernel)",
   "language": "python",
   "name": "python3"
  },
  "language_info": {
   "codemirror_mode": {
    "name": "ipython",
    "version": 3
   },
   "file_extension": ".py",
   "mimetype": "text/x-python",
   "name": "python",
   "nbconvert_exporter": "python",
   "pygments_lexer": "ipython3",
   "version": "3.9.7"
  }
 },
 "nbformat": 4,
 "nbformat_minor": 5
}
